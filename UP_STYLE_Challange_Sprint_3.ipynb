{
  "nbformat": 4,
  "nbformat_minor": 0,
  "metadata": {
    "colab": {
      "provenance": [],
      "authorship_tag": "ABX9TyOtbxhPYrUUBhUmVZyMLrFz",
      "include_colab_link": true
    },
    "kernelspec": {
      "name": "python3",
      "display_name": "Python 3"
    },
    "language_info": {
      "name": "python"
    }
  },
  "cells": [
    {
      "cell_type": "markdown",
      "metadata": {
        "id": "view-in-github",
        "colab_type": "text"
      },
      "source": [
        "<a href=\"https://colab.research.google.com/github/santosmgs/UP-STYLE---Challange-IA-S3/blob/main/UP_STYLE_Challange_Sprint_3.ipynb\" target=\"_parent\"><img src=\"https://colab.research.google.com/assets/colab-badge.svg\" alt=\"Open In Colab\"/></a>"
      ]
    },
    {
      "cell_type": "markdown",
      "source": [
        "# **Início**\n",
        "\n",
        "Para obter os dados demográficos mencionados no vídeo anterior, é necessário criar um dataset com as informações necessárias. Então, utilizamos o site do IBGE para extrair os dados necessários.\n",
        "\n",
        "###**Objetivo**\n",
        "\n",
        "1.   Extrair a proporção de pessoas vulneráveis, como o percentual de população em diferentes condições de vulnerabilidade.\n",
        "2.   Identificar quais fatores contribuem mais para a vulnerabilidade em cada subgrupo.\n",
        "1.   Proporção de pessoas em situação de pobreza, com o percentual de população vivendo em condições de pobreza em diferentes UFs.\n",
        "2.   Fatores que mais influenciam a pobreza multidimensional em cada UF.\n",
        "\n",
        "### **Motivo:**\n",
        "\n",
        "**Com essas informações conseguimos:**\n",
        "\n",
        "\n",
        "\n",
        "*   Analisar a vulnerabilidade e pobreza: Compreender as áreas e subgrupos mais vulneráveis e em situação de pobreza, o que é crucial para avaliar o potencial de mercado e a demanda por produtos de moda.\n",
        "*   Regionalizar o consumo: Identificar quais regiões apresentam melhores condições socioeconômicas e, portanto, maior potencial de consumo.\n",
        "*   Identificar fatores de influência: Entender os principais fatores que contribuem para a vulnerabilidade e pobreza, ajudando a ajustar estratégias de marketing e de produto.\n",
        "\n",
        "\n",
        "\n",
        "\n",
        "\n",
        "\n",
        "\n"
      ],
      "metadata": {
        "id": "NkjgFhfB5D8O"
      }
    },
    {
      "cell_type": "markdown",
      "source": [
        "# **Criando o Dataset**\n",
        "\n",
        "Utilizando dados do IBGE, criamos um dataset com as seguintes informações:\n",
        "\n",
        "- Proporção de pessoas das famílias residentes\n",
        "- Proporção de pessoas com algum grau de vulnerabilidade\n",
        "- IVM-NM e contribuições para o IVM-NM do Brasil segundo os condicionantes e subgrupos selecionados-período 2017-2018 (este é o dado mais recente)\n",
        "\n",
        "Fonte: https://www.ibge.gov.br/estatisticas/sociais/rendimento-despesa-e-consumo/9050-pesquisa-de-orcamentos-familiares.html"
      ],
      "metadata": {
        "id": "VjcVs0zz38s6"
      }
    },
    {
      "cell_type": "code",
      "execution_count": null,
      "metadata": {
        "colab": {
          "base_uri": "https://localhost:8080/",
          "height": 17
        },
        "id": "F1qBpleb2v8d",
        "outputId": "f46d6082-5803-4f58-bf14-d3f7f168fbcf"
      },
      "outputs": [
        {
          "output_type": "display_data",
          "data": {
            "text/plain": [
              "<IPython.core.display.Javascript object>"
            ],
            "application/javascript": [
              "\n",
              "    async function download(id, filename, size) {\n",
              "      if (!google.colab.kernel.accessAllowed) {\n",
              "        return;\n",
              "      }\n",
              "      const div = document.createElement('div');\n",
              "      const label = document.createElement('label');\n",
              "      label.textContent = `Downloading \"${filename}\": `;\n",
              "      div.appendChild(label);\n",
              "      const progress = document.createElement('progress');\n",
              "      progress.max = size;\n",
              "      div.appendChild(progress);\n",
              "      document.body.appendChild(div);\n",
              "\n",
              "      const buffers = [];\n",
              "      let downloaded = 0;\n",
              "\n",
              "      const channel = await google.colab.kernel.comms.open(id);\n",
              "      // Send a message to notify the kernel that we're ready.\n",
              "      channel.send({})\n",
              "\n",
              "      for await (const message of channel.messages) {\n",
              "        // Send a message to notify the kernel that we're ready.\n",
              "        channel.send({})\n",
              "        if (message.buffers) {\n",
              "          for (const buffer of message.buffers) {\n",
              "            buffers.push(buffer);\n",
              "            downloaded += buffer.byteLength;\n",
              "            progress.value = downloaded;\n",
              "          }\n",
              "        }\n",
              "      }\n",
              "      const blob = new Blob(buffers, {type: 'application/binary'});\n",
              "      const a = document.createElement('a');\n",
              "      a.href = window.URL.createObjectURL(blob);\n",
              "      a.download = filename;\n",
              "      div.appendChild(a);\n",
              "      a.click();\n",
              "      div.remove();\n",
              "    }\n",
              "  "
            ]
          },
          "metadata": {}
        },
        {
          "output_type": "display_data",
          "data": {
            "text/plain": [
              "<IPython.core.display.Javascript object>"
            ],
            "application/javascript": [
              "download(\"download_9a168c30-293f-493b-bd89-023add7281e2\", \"dadosDemograficos1.csv\", 2339)"
            ]
          },
          "metadata": {}
        }
      ],
      "source": [
        "import pandas as pd\n",
        "from io import StringIO\n",
        "\n",
        "# CSV data\n",
        "csv_data = \"\"\"\n",
        "\"Condicionantes e subgrupos selecionados\",\"Proporção de pessoas das famílias residentes (%)\",\"Proporção de pessoas com algum grau de vulnerabilidade (%)\",\"IVM-NM\",\"Contribuição para o IVM-NM do Brasil\",\"Contribuição para o IVM-NM do Brasil (%)\"\n",
        "\"Localização geográfica do domicílio\",\"\",\"\",\"\",\"\",\"\"\n",
        "\"Brasil\",100.0,63.8,7.7,7.7,100.0\n",
        "\"Urbano\",85.3,58.8,6.3,5.4,69.8\n",
        "\"Rural\",14.7,92.9,15.8,2.3,30.2\n",
        "\"Grandes Regiões\",\"\",\"\",\"\",\"\",\"\"\n",
        "\"Norte\",8.6,86.2,13.7,1.2,15.2\n",
        "\"Nordeste\",27.3,82.3,12.2,3.3,43.1\n",
        "\"Sudeste\",42.2,52.1,5.0,2.1,27.2\n",
        "\"Sul\",14.3,47.3,3.9,0.6,7.2\n",
        "\"Centro-Oeste\",7.7,68.2,7.3,0.6,7.3\n",
        "\"Pessoa de referência\",\"\",\"\",\"\",\"\",\"\"\n",
        "\"Composição demográfica\",\"\",\"\",\"\",\"\",\"\"\n",
        "\"Até 24 anos\",3.1,69.8,8.3,0.3,3.4\n",
        "\"25 a 49 anos\",52.5,63.8,7.7,4.1,52.7\n",
        "\"50 a 64 anos\",28.9,63.2,7.7,2.2,29.1\n",
        "\"65 anos ou mais\",15.5,63.8,7.4,1.1,14.9\n",
        "\"Cor ou raça\",\"\",\"\",\"\",\"\",\"\"\n",
        "\"Brancos\",41.4,49.4,4.8,2.0,25.7\n",
        "\"Pretos e pardos\",57.2,74.5,9.9,5.6,73.2\n",
        "\"Sexo\",\"\",\"\",\"\",\"\",\"\"\n",
        "\"Homem\",59.7,60.8,7.1,4.2,55.0\n",
        "\"Mulher\",40.3,68.3,8.6,3.5,45.0\n",
        "\"Nível de instrução\",\"\",\"\",\"\",\"\",\"\"\n",
        "\"Sem instrução\",7.0,94.5,16.7,1.2,15.2\n",
        "\"Ensino fundamental incompleto\",36.8,81.9,11.0,4.0,52.4\n",
        "\"Ensino fundamental completo\",8.8,64.5,7.0,0.6,8.0\n",
        "\"Ensino médio incompleto\",5.0,70.1,7.3,0.4,4.8\n",
        "\"Ensino médio completo\",25.3,51.5,4.6,1.2,15.2\n",
        "\"Ensino superior incompleto\",3.3,41.1,3.4,0.1,1.5\n",
        "\"Ensino superior completo\",13.7,24.8,1.6,0.2,2.9\n",
        "\"Ocupação e formalização\",\"\",\"\",\"\",\"\",\"\"\n",
        "\"Empregado doméstico\",5.5,82.0,11.4,0.6,8.1\n",
        "\"Empregado Privado\",31.3,58.7,6.2,1.9,25.1\n",
        "\"Militar e empregado do setor público\",9.1,46.0,4.1,0.4,4.9\n",
        "\"Conta própria\",22.2,71.1,9.4,2.1,27.1\n",
        "\"Empregador\",3.5,33.8,2.8,0.1,1.3\n",
        "\"Fora da força de trabalho e outros casos\",28.4,69.6,9.1,2.6,33.5\n",
        "\"Características da família\",\"\",\"\",\"\",\"\",\"\"\n",
        "\"Composição da família\",\"\",\"\",\"\",\"\",\"\"\n",
        "\"Um adulto sem criança\",3.1,54.2,5.9,0.2,2.3\n",
        "\"Um adulto com ao menos uma criança\",2.4,67.9,8.3,0.2,2.6\n",
        "\"Mais de um adulto sem criança\",27.7,56.8,6.3,1.7,22.7\n",
        "\"Mais de um adulto com ao menos uma criança\",45.4,67.9,8.7,4.0,51.5\n",
        "\"Um ou mais idosos com ou sem crianças\",4.4,54.7,5.5,0.2,3.1\n",
        "\"Um ou mais idosos, com ao menos um adulto, com ou sem crianças\",17.0,67.8,8.0,1.4,17.7\n",
        "\"Décimos da renda disponível familiar per capita\",\"\",\"\",\"\",\"\",\"\"\n",
        "\"1º\",10.0,94.2,18.0,1.8,23.4\n",
        "\"2º\",10.0,89.6,13.2,1.3,17.2\n",
        "\"3º\",10.0,83.0,11.0,1.1,14.3\n",
        "\"4º\",10.0,78.0,9.1,0.9,11.8\n",
        "\"5º\",10.0,71.3,7.5,0.8,9.8\n",
        "\"6º\",10.0,64.8,6.3,0.6,8.2\n",
        "\"7º\",10.0,58.4,5.0,0.5,6.5\n",
        "\"8º\",10.0,47.7,3.6,0.4,4.6\n",
        "\"9º\",10.0,35.0,2.5,0.2,3.2\n",
        "\"10º\",10.0,16.0,0.8,0.1,1.1\n",
        "\"\"\"\n",
        "\n",
        "# Create a DataFrame\n",
        "df = pd.read_csv(StringIO(csv_data))\n",
        "\n",
        "# Save the DataFrame to a CSV file\n",
        "df.to_csv('dadosDemograficos1.csv', index=False)\n",
        "\n",
        "# Command to download the file in Google Colab\n",
        "from google.colab import files\n",
        "files.download('dadosDemograficos1.csv')\n"
      ]
    },
    {
      "cell_type": "code",
      "source": [
        "# Set pandas options to display all columns and rows\n",
        "pd.set_option('display.max_columns', None)\n",
        "pd.set_option('display.max_rows', None)\n",
        "df.head()"
      ],
      "metadata": {
        "colab": {
          "base_uri": "https://localhost:8080/",
          "height": 241
        },
        "id": "zDJI35BL8enE",
        "outputId": "194a75bb-6964-4a6a-bfe5-7286d9100231"
      },
      "execution_count": null,
      "outputs": [
        {
          "output_type": "execute_result",
          "data": {
            "text/plain": [
              "  Condicionantes e subgrupos selecionados  \\\n",
              "0     Localização geográfica do domicílio   \n",
              "1                                  Brasil   \n",
              "2                                  Urbano   \n",
              "3                                   Rural   \n",
              "4                         Grandes Regiões   \n",
              "\n",
              "   Proporção de pessoas das famílias residentes (%)  \\\n",
              "0                                               NaN   \n",
              "1                                             100.0   \n",
              "2                                              85.3   \n",
              "3                                              14.7   \n",
              "4                                               NaN   \n",
              "\n",
              "   Proporção de pessoas com algum grau de vulnerabilidade (%)  IVM-NM  \\\n",
              "0                                                NaN              NaN   \n",
              "1                                               63.8              7.7   \n",
              "2                                               58.8              6.3   \n",
              "3                                               92.9             15.8   \n",
              "4                                                NaN              NaN   \n",
              "\n",
              "   Contribuição para o IVM-NM do Brasil  \\\n",
              "0                                   NaN   \n",
              "1                                   7.7   \n",
              "2                                   5.4   \n",
              "3                                   2.3   \n",
              "4                                   NaN   \n",
              "\n",
              "   Contribuição para o IVM-NM do Brasil (%)  \n",
              "0                                       NaN  \n",
              "1                                     100.0  \n",
              "2                                      69.8  \n",
              "3                                      30.2  \n",
              "4                                       NaN  "
            ],
            "text/html": [
              "\n",
              "  <div id=\"df-05d78fad-01f3-4282-ae49-742b7e816dc2\" class=\"colab-df-container\">\n",
              "    <div>\n",
              "<style scoped>\n",
              "    .dataframe tbody tr th:only-of-type {\n",
              "        vertical-align: middle;\n",
              "    }\n",
              "\n",
              "    .dataframe tbody tr th {\n",
              "        vertical-align: top;\n",
              "    }\n",
              "\n",
              "    .dataframe thead th {\n",
              "        text-align: right;\n",
              "    }\n",
              "</style>\n",
              "<table border=\"1\" class=\"dataframe\">\n",
              "  <thead>\n",
              "    <tr style=\"text-align: right;\">\n",
              "      <th></th>\n",
              "      <th>Condicionantes e subgrupos selecionados</th>\n",
              "      <th>Proporção de pessoas das famílias residentes (%)</th>\n",
              "      <th>Proporção de pessoas com algum grau de vulnerabilidade (%)</th>\n",
              "      <th>IVM-NM</th>\n",
              "      <th>Contribuição para o IVM-NM do Brasil</th>\n",
              "      <th>Contribuição para o IVM-NM do Brasil (%)</th>\n",
              "    </tr>\n",
              "  </thead>\n",
              "  <tbody>\n",
              "    <tr>\n",
              "      <th>0</th>\n",
              "      <td>Localização geográfica do domicílio</td>\n",
              "      <td>NaN</td>\n",
              "      <td>NaN</td>\n",
              "      <td>NaN</td>\n",
              "      <td>NaN</td>\n",
              "      <td>NaN</td>\n",
              "    </tr>\n",
              "    <tr>\n",
              "      <th>1</th>\n",
              "      <td>Brasil</td>\n",
              "      <td>100.0</td>\n",
              "      <td>63.8</td>\n",
              "      <td>7.7</td>\n",
              "      <td>7.7</td>\n",
              "      <td>100.0</td>\n",
              "    </tr>\n",
              "    <tr>\n",
              "      <th>2</th>\n",
              "      <td>Urbano</td>\n",
              "      <td>85.3</td>\n",
              "      <td>58.8</td>\n",
              "      <td>6.3</td>\n",
              "      <td>5.4</td>\n",
              "      <td>69.8</td>\n",
              "    </tr>\n",
              "    <tr>\n",
              "      <th>3</th>\n",
              "      <td>Rural</td>\n",
              "      <td>14.7</td>\n",
              "      <td>92.9</td>\n",
              "      <td>15.8</td>\n",
              "      <td>2.3</td>\n",
              "      <td>30.2</td>\n",
              "    </tr>\n",
              "    <tr>\n",
              "      <th>4</th>\n",
              "      <td>Grandes Regiões</td>\n",
              "      <td>NaN</td>\n",
              "      <td>NaN</td>\n",
              "      <td>NaN</td>\n",
              "      <td>NaN</td>\n",
              "      <td>NaN</td>\n",
              "    </tr>\n",
              "  </tbody>\n",
              "</table>\n",
              "</div>\n",
              "    <div class=\"colab-df-buttons\">\n",
              "\n",
              "  <div class=\"colab-df-container\">\n",
              "    <button class=\"colab-df-convert\" onclick=\"convertToInteractive('df-05d78fad-01f3-4282-ae49-742b7e816dc2')\"\n",
              "            title=\"Convert this dataframe to an interactive table.\"\n",
              "            style=\"display:none;\">\n",
              "\n",
              "  <svg xmlns=\"http://www.w3.org/2000/svg\" height=\"24px\" viewBox=\"0 -960 960 960\">\n",
              "    <path d=\"M120-120v-720h720v720H120Zm60-500h600v-160H180v160Zm220 220h160v-160H400v160Zm0 220h160v-160H400v160ZM180-400h160v-160H180v160Zm440 0h160v-160H620v160ZM180-180h160v-160H180v160Zm440 0h160v-160H620v160Z\"/>\n",
              "  </svg>\n",
              "    </button>\n",
              "\n",
              "  <style>\n",
              "    .colab-df-container {\n",
              "      display:flex;\n",
              "      gap: 12px;\n",
              "    }\n",
              "\n",
              "    .colab-df-convert {\n",
              "      background-color: #E8F0FE;\n",
              "      border: none;\n",
              "      border-radius: 50%;\n",
              "      cursor: pointer;\n",
              "      display: none;\n",
              "      fill: #1967D2;\n",
              "      height: 32px;\n",
              "      padding: 0 0 0 0;\n",
              "      width: 32px;\n",
              "    }\n",
              "\n",
              "    .colab-df-convert:hover {\n",
              "      background-color: #E2EBFA;\n",
              "      box-shadow: 0px 1px 2px rgba(60, 64, 67, 0.3), 0px 1px 3px 1px rgba(60, 64, 67, 0.15);\n",
              "      fill: #174EA6;\n",
              "    }\n",
              "\n",
              "    .colab-df-buttons div {\n",
              "      margin-bottom: 4px;\n",
              "    }\n",
              "\n",
              "    [theme=dark] .colab-df-convert {\n",
              "      background-color: #3B4455;\n",
              "      fill: #D2E3FC;\n",
              "    }\n",
              "\n",
              "    [theme=dark] .colab-df-convert:hover {\n",
              "      background-color: #434B5C;\n",
              "      box-shadow: 0px 1px 3px 1px rgba(0, 0, 0, 0.15);\n",
              "      filter: drop-shadow(0px 1px 2px rgba(0, 0, 0, 0.3));\n",
              "      fill: #FFFFFF;\n",
              "    }\n",
              "  </style>\n",
              "\n",
              "    <script>\n",
              "      const buttonEl =\n",
              "        document.querySelector('#df-05d78fad-01f3-4282-ae49-742b7e816dc2 button.colab-df-convert');\n",
              "      buttonEl.style.display =\n",
              "        google.colab.kernel.accessAllowed ? 'block' : 'none';\n",
              "\n",
              "      async function convertToInteractive(key) {\n",
              "        const element = document.querySelector('#df-05d78fad-01f3-4282-ae49-742b7e816dc2');\n",
              "        const dataTable =\n",
              "          await google.colab.kernel.invokeFunction('convertToInteractive',\n",
              "                                                    [key], {});\n",
              "        if (!dataTable) return;\n",
              "\n",
              "        const docLinkHtml = 'Like what you see? Visit the ' +\n",
              "          '<a target=\"_blank\" href=https://colab.research.google.com/notebooks/data_table.ipynb>data table notebook</a>'\n",
              "          + ' to learn more about interactive tables.';\n",
              "        element.innerHTML = '';\n",
              "        dataTable['output_type'] = 'display_data';\n",
              "        await google.colab.output.renderOutput(dataTable, element);\n",
              "        const docLink = document.createElement('div');\n",
              "        docLink.innerHTML = docLinkHtml;\n",
              "        element.appendChild(docLink);\n",
              "      }\n",
              "    </script>\n",
              "  </div>\n",
              "\n",
              "\n",
              "<div id=\"df-4a4f4bbd-e82a-4ceb-8013-55627cec8891\">\n",
              "  <button class=\"colab-df-quickchart\" onclick=\"quickchart('df-4a4f4bbd-e82a-4ceb-8013-55627cec8891')\"\n",
              "            title=\"Suggest charts\"\n",
              "            style=\"display:none;\">\n",
              "\n",
              "<svg xmlns=\"http://www.w3.org/2000/svg\" height=\"24px\"viewBox=\"0 0 24 24\"\n",
              "     width=\"24px\">\n",
              "    <g>\n",
              "        <path d=\"M19 3H5c-1.1 0-2 .9-2 2v14c0 1.1.9 2 2 2h14c1.1 0 2-.9 2-2V5c0-1.1-.9-2-2-2zM9 17H7v-7h2v7zm4 0h-2V7h2v10zm4 0h-2v-4h2v4z\"/>\n",
              "    </g>\n",
              "</svg>\n",
              "  </button>\n",
              "\n",
              "<style>\n",
              "  .colab-df-quickchart {\n",
              "      --bg-color: #E8F0FE;\n",
              "      --fill-color: #1967D2;\n",
              "      --hover-bg-color: #E2EBFA;\n",
              "      --hover-fill-color: #174EA6;\n",
              "      --disabled-fill-color: #AAA;\n",
              "      --disabled-bg-color: #DDD;\n",
              "  }\n",
              "\n",
              "  [theme=dark] .colab-df-quickchart {\n",
              "      --bg-color: #3B4455;\n",
              "      --fill-color: #D2E3FC;\n",
              "      --hover-bg-color: #434B5C;\n",
              "      --hover-fill-color: #FFFFFF;\n",
              "      --disabled-bg-color: #3B4455;\n",
              "      --disabled-fill-color: #666;\n",
              "  }\n",
              "\n",
              "  .colab-df-quickchart {\n",
              "    background-color: var(--bg-color);\n",
              "    border: none;\n",
              "    border-radius: 50%;\n",
              "    cursor: pointer;\n",
              "    display: none;\n",
              "    fill: var(--fill-color);\n",
              "    height: 32px;\n",
              "    padding: 0;\n",
              "    width: 32px;\n",
              "  }\n",
              "\n",
              "  .colab-df-quickchart:hover {\n",
              "    background-color: var(--hover-bg-color);\n",
              "    box-shadow: 0 1px 2px rgba(60, 64, 67, 0.3), 0 1px 3px 1px rgba(60, 64, 67, 0.15);\n",
              "    fill: var(--button-hover-fill-color);\n",
              "  }\n",
              "\n",
              "  .colab-df-quickchart-complete:disabled,\n",
              "  .colab-df-quickchart-complete:disabled:hover {\n",
              "    background-color: var(--disabled-bg-color);\n",
              "    fill: var(--disabled-fill-color);\n",
              "    box-shadow: none;\n",
              "  }\n",
              "\n",
              "  .colab-df-spinner {\n",
              "    border: 2px solid var(--fill-color);\n",
              "    border-color: transparent;\n",
              "    border-bottom-color: var(--fill-color);\n",
              "    animation:\n",
              "      spin 1s steps(1) infinite;\n",
              "  }\n",
              "\n",
              "  @keyframes spin {\n",
              "    0% {\n",
              "      border-color: transparent;\n",
              "      border-bottom-color: var(--fill-color);\n",
              "      border-left-color: var(--fill-color);\n",
              "    }\n",
              "    20% {\n",
              "      border-color: transparent;\n",
              "      border-left-color: var(--fill-color);\n",
              "      border-top-color: var(--fill-color);\n",
              "    }\n",
              "    30% {\n",
              "      border-color: transparent;\n",
              "      border-left-color: var(--fill-color);\n",
              "      border-top-color: var(--fill-color);\n",
              "      border-right-color: var(--fill-color);\n",
              "    }\n",
              "    40% {\n",
              "      border-color: transparent;\n",
              "      border-right-color: var(--fill-color);\n",
              "      border-top-color: var(--fill-color);\n",
              "    }\n",
              "    60% {\n",
              "      border-color: transparent;\n",
              "      border-right-color: var(--fill-color);\n",
              "    }\n",
              "    80% {\n",
              "      border-color: transparent;\n",
              "      border-right-color: var(--fill-color);\n",
              "      border-bottom-color: var(--fill-color);\n",
              "    }\n",
              "    90% {\n",
              "      border-color: transparent;\n",
              "      border-bottom-color: var(--fill-color);\n",
              "    }\n",
              "  }\n",
              "</style>\n",
              "\n",
              "  <script>\n",
              "    async function quickchart(key) {\n",
              "      const quickchartButtonEl =\n",
              "        document.querySelector('#' + key + ' button');\n",
              "      quickchartButtonEl.disabled = true;  // To prevent multiple clicks.\n",
              "      quickchartButtonEl.classList.add('colab-df-spinner');\n",
              "      try {\n",
              "        const charts = await google.colab.kernel.invokeFunction(\n",
              "            'suggestCharts', [key], {});\n",
              "      } catch (error) {\n",
              "        console.error('Error during call to suggestCharts:', error);\n",
              "      }\n",
              "      quickchartButtonEl.classList.remove('colab-df-spinner');\n",
              "      quickchartButtonEl.classList.add('colab-df-quickchart-complete');\n",
              "    }\n",
              "    (() => {\n",
              "      let quickchartButtonEl =\n",
              "        document.querySelector('#df-4a4f4bbd-e82a-4ceb-8013-55627cec8891 button');\n",
              "      quickchartButtonEl.style.display =\n",
              "        google.colab.kernel.accessAllowed ? 'block' : 'none';\n",
              "    })();\n",
              "  </script>\n",
              "</div>\n",
              "\n",
              "    </div>\n",
              "  </div>\n"
            ],
            "application/vnd.google.colaboratory.intrinsic+json": {
              "type": "dataframe",
              "variable_name": "df",
              "summary": "{\n  \"name\": \"df\",\n  \"rows\": 56,\n  \"fields\": [\n    {\n      \"column\": \"Condicionantes e subgrupos selecionados\",\n      \"properties\": {\n        \"dtype\": \"string\",\n        \"num_unique_values\": 56,\n        \"samples\": [\n          \"Localiza\\u00e7\\u00e3o geogr\\u00e1fica do domic\\u00edlio\",\n          \"Norte\",\n          \"Militar e empregado do setor p\\u00fablico\"\n        ],\n        \"semantic_type\": \"\",\n        \"description\": \"\"\n      }\n    },\n    {\n      \"column\": \"Propor\\u00e7\\u00e3o de pessoas das fam\\u00edlias residentes (%)\",\n      \"properties\": {\n        \"dtype\": \"number\",\n        \"std\": 21.904875154986748,\n        \"min\": 2.4,\n        \"max\": 100.0,\n        \"num_unique_values\": 35,\n        \"samples\": [\n          22.2,\n          57.2,\n          31.3\n        ],\n        \"semantic_type\": \"\",\n        \"description\": \"\"\n      }\n    },\n    {\n      \"column\": \"Propor\\u00e7\\u00e3o de pessoas com algum grau de vulnerabilidade (%)\",\n      \"properties\": {\n        \"dtype\": \"number\",\n        \"std\": 17.569646978510836,\n        \"min\": 16.0,\n        \"max\": 94.5,\n        \"num_unique_values\": 42,\n        \"samples\": [\n          33.8,\n          68.3,\n          69.8\n        ],\n        \"semantic_type\": \"\",\n        \"description\": \"\"\n      }\n    },\n    {\n      \"column\": \"IVM-NM\",\n      \"properties\": {\n        \"dtype\": \"number\",\n        \"std\": 3.806656848684468,\n        \"min\": 0.8,\n        \"max\": 18.0,\n        \"num_unique_values\": 36,\n        \"samples\": [\n          0.8,\n          8.6,\n          5.9\n        ],\n        \"semantic_type\": \"\",\n        \"description\": \"\"\n      }\n    },\n    {\n      \"column\": \"Contribui\\u00e7\\u00e3o para o IVM-NM do Brasil\",\n      \"properties\": {\n        \"dtype\": \"number\",\n        \"std\": 1.7306360131757947,\n        \"min\": 0.1,\n        \"max\": 7.7,\n        \"num_unique_values\": 28,\n        \"samples\": [\n          2.2,\n          0.9,\n          4.1\n        ],\n        \"semantic_type\": \"\",\n        \"description\": \"\"\n      }\n    },\n    {\n      \"column\": \"Contribui\\u00e7\\u00e3o para o IVM-NM do Brasil (%)\",\n      \"properties\": {\n        \"dtype\": \"number\",\n        \"std\": 22.50130299257437,\n        \"min\": 1.1,\n        \"max\": 100.0,\n        \"num_unique_values\": 43,\n        \"samples\": [\n          9.8,\n          27.1,\n          1.3\n        ],\n        \"semantic_type\": \"\",\n        \"description\": \"\"\n      }\n    }\n  ]\n}"
            }
          },
          "metadata": {},
          "execution_count": 2
        }
      ]
    },
    {
      "cell_type": "markdown",
      "source": [
        "# **Proporção de pessoas com algum grau de vulnerabilidade (%)**\n",
        "\n",
        "### **Justificativa:**\n",
        "\n",
        "Neste gráfico temos uma visão direta da porcentagem de população que enfrenta algum nível de vulnerabilidade, e isso é preciso para entender o mercado potencial e o poder de compra.\n",
        "\n",
        "### **Explicação do gráfico:**\n",
        "\n",
        "Este gráfico apresenta a distribuição da proporção de pessoas com algum grau de vulnerabilidade em diferentes grupos. As barras abaixo representam a quantidade de grupos, que possuem uma determinada proporção de pessoas vulneraveis.\n"
      ],
      "metadata": {
        "id": "RWtCfRb3NwJz"
      }
    },
    {
      "source": [
        "# @title Proporção de pessoas com algum grau de vulnerabilidade (%)\n",
        "\n",
        "from matplotlib import pyplot as plt\n",
        "df['Proporção de pessoas com algum grau de vulnerabilidade (%)'].plot(kind='hist', bins=20, title='Proporção de pessoas com algum grau de vulnerabilidade (%)')\n",
        "plt.gca().spines[['top', 'right',]].set_visible(False)"
      ],
      "cell_type": "code",
      "execution_count": null,
      "outputs": [
        {
          "output_type": "display_data",
          "data": {
            "text/plain": [
              "<Figure size 640x480 with 1 Axes>"
            ],
            "image/png": "[encoded data removed]"
          },
          "metadata": {}
        }
      ],
      "metadata": {
        "colab": {
          "base_uri": "https://localhost:8080/",
          "height": 452
        },
        "id": "NpGeLZOkM0Ur",
        "outputId": "2f8e61f0-0ea8-4e49-c89c-c86dbc13bed5"
      }
    },
    {
      "cell_type": "markdown",
      "source": [
        "# **IVM-NM**\n",
        "\n",
        "### **Justificativa:**\n",
        "\n",
        "O Índice de Vulnerabilidade Multidimensional não Monetário (IVM-NM) fornece uma medida composta que reflete a vulnerabilidade das famílias em vários aspectos, além da renda, ajudando a identificar regiões ou subgrupos com maiores desafios.\n",
        "\n",
        "### **Explicação do gráfico:**\n",
        "\n",
        " Aqui temos a distribuição do IVM-NM entre diferentes grupos. As barras representam a quantidade de grupos que têm um determinado nível de IVM-NM.\n",
        "\n",
        "\n"
      ],
      "metadata": {
        "id": "WfmEd4upRino"
      }
    },
    {
      "source": [
        "# @title IVM-NM\n",
        "\n",
        "from matplotlib import pyplot as plt\n",
        "df['IVM-NM'].plot(kind='hist', bins=20, title='IVM-NM')\n",
        "plt.gca().spines[['top', 'right',]].set_visible(False)"
      ],
      "cell_type": "code",
      "execution_count": null,
      "outputs": [
        {
          "output_type": "display_data",
          "data": {
            "text/plain": [
              "<Figure size 640x480 with 1 Axes>"
            ],
            "image/png": "[encoded data removed]"
          },
          "metadata": {}
        }
      ],
      "metadata": {
        "colab": {
          "base_uri": "https://localhost:8080/",
          "height": 452
        },
        "id": "M0gutmVWNDlh",
        "outputId": "4a0fa58f-0219-4009-dc66-7f18b334bbd6"
      }
    },
    {
      "cell_type": "markdown",
      "source": [
        "# **Proporção de pessoas das famílias residentes (%) vs Proporção de pessoas com algum grau de vulnerabilidade (%)**\n",
        "\n",
        "\n",
        "### **Justificativa:**\n",
        "\n",
        "Neste gráfico de comparação, é mostrado como a distribuição da população se relaciona com os níveis de vulnerabilidade, permitindo identificar padrões ou correlações importantes para decisões de investimento.\n",
        "\n",
        "### **Explicação do gráfico:**\n",
        "O gráfico abaixo de dispersão compara a proporção de pessoas residentes com a proporção de pessoas vulneráveis em diferentes grupos. Cada ponto representa um grupo específico."
      ],
      "metadata": {
        "id": "3325KrCmRtYf"
      }
    },
    {
      "source": [
        "# @title Proporção de pessoas das famílias residentes (%) vs Proporção de pessoas com algum grau de vulnerabilidade (%)\n",
        "\n",
        "from matplotlib import pyplot as plt\n",
        "df.plot(kind='scatter', x='Proporção de pessoas das famílias residentes (%)', y='Proporção de pessoas com algum grau de vulnerabilidade (%)', s=32, alpha=.8)\n",
        "plt.gca().spines[['top', 'right',]].set_visible(False)"
      ],
      "cell_type": "code",
      "execution_count": null,
      "outputs": [
        {
          "output_type": "display_data",
          "data": {
            "text/plain": [
              "<Figure size 640x480 with 1 Axes>"
            ],
            "image/png": "[encoded data removed]"
          },
          "metadata": {}
        }
      ],
      "metadata": {
        "colab": {
          "base_uri": "https://localhost:8080/",
          "height": 450
        },
        "id": "jQzAC6pGNOp-",
        "outputId": "1df9da66-3054-4bf8-b1ec-d808db09c369"
      }
    },
    {
      "cell_type": "markdown",
      "source": [
        "# **IVM-NM vs Contribuição para o IVM-NM do Brasil**\n",
        "\n",
        "### **Justificativa:**\n",
        "\n",
        " Este gráfico ajuda a entender como diferentes níveis de vulnerabilidade (IVM-NM) se relacionam com suas contribuições para o índice geral, permitindo identificar os principais fatores de risco e vulnerabilidade que podem afetar o consumo de moda.\n",
        "\n",
        "### **Explicação do gráfico:**\n",
        "\n"
      ],
      "metadata": {
        "id": "xOybGMAQRzkP"
      }
    },
    {
      "source": [
        "# @title IVM-NM vs Contribuição para o IVM-NM do Brasil\n",
        "\n",
        "from matplotlib import pyplot as plt\n",
        "df.plot(kind='scatter', x='IVM-NM', y='Contribuição para o IVM-NM do Brasil', s=32, alpha=.8)\n",
        "plt.gca().spines[['top', 'right',]].set_visible(False)"
      ],
      "cell_type": "code",
      "execution_count": null,
      "outputs": [
        {
          "output_type": "display_data",
          "data": {
            "text/plain": [
              "<Figure size 640x480 with 1 Axes>"
            ],
            "image/png": "[encoded data removed]"
          },
          "metadata": {}
        }
      ],
      "metadata": {
        "colab": {
          "base_uri": "https://localhost:8080/",
          "height": 451
        },
        "id": "Hk2bzQ7RNmaO",
        "outputId": "42f16f69-3c28-440b-9fc6-e4fbc4bfb5ca"
      }
    },
    {
      "cell_type": "markdown",
      "source": [
        "# **Continuação do projeto - 3 Sprint**\n",
        "\n",
        "Observação: Para facilitar o entendimento mantivemos o código anterior para ter mais facilidade na compreensão do código que vamos apresentar."
      ],
      "metadata": {
        "id": "B5uiFwlqnUK8"
      }
    },
    {
      "cell_type": "markdown",
      "source": [
        "# **Protótipo**\n",
        "\n",
        "Para realizar o nosso protótipo funcional optamos pela **análise de correlação e regressão linear**"
      ],
      "metadata": {
        "id": "ckBrLdgDpT9z"
      }
    },
    {
      "cell_type": "markdown",
      "source": [
        "### **Código para Análise de Correlação e Regressão**"
      ],
      "metadata": {
        "id": "-syOMN2ts6Nz"
      }
    },
    {
      "cell_type": "code",
      "source": [
        "import pandas as pd\n",
        "from io import StringIO\n",
        "\n",
        "# Dataset\n",
        "csv_data = \"\"\"\n",
        "\"Condicionantes e subgrupos selecionados\",\"Proporção de pessoas das famílias residentes (%)\",\"Proporção de pessoas com algum grau de vulnerabilidade (%)\",\"IVM-NM\",\"Contribuição para o IVM-NM do Brasil\",\"Contribuição para o IVM-NM do Brasil (%)\"\n",
        "\"Brasil\",100.0,63.8,7.7,7.7,100.0\n",
        "\"Urbano\",85.3,58.8,6.3,5.4,69.8\n",
        "\"Rural\",14.7,92.9,15.8,2.3,30.2\n",
        "\"Norte\",8.6,86.2,13.7,1.2,15.2\n",
        "\"Nordeste\",27.3,82.3,12.2,3.3,43.1\n",
        "\"Sudeste\",42.2,52.1,5.0,2.1,27.2\n",
        "\"Sul\",14.3,47.3,3.9,0.6,7.2\n",
        "\"Centro-Oeste\",7.7,68.2,7.3,0.6,7.3\n",
        "\"\"\"\n",
        "\n",
        "# Criar DataFrame\n",
        "df = pd.read_csv(StringIO(csv_data))\n",
        "\n",
        "# Exibir DataFrame\n",
        "print(df.head())\n"
      ],
      "metadata": {
        "colab": {
          "base_uri": "https://localhost:8080/"
        },
        "id": "G53hM-g3tD2x",
        "outputId": "68b8dcbc-3b2f-43a8-929e-98de72febe91"
      },
      "execution_count": null,
      "outputs": [
        {
          "output_type": "stream",
          "name": "stdout",
          "text": [
            "  Condicionantes e subgrupos selecionados  \\\n",
            "0                                  Brasil   \n",
            "1                                  Urbano   \n",
            "2                                   Rural   \n",
            "3                                   Norte   \n",
            "4                                Nordeste   \n",
            "\n",
            "   Proporção de pessoas das famílias residentes (%)  \\\n",
            "0                                             100.0   \n",
            "1                                              85.3   \n",
            "2                                              14.7   \n",
            "3                                               8.6   \n",
            "4                                              27.3   \n",
            "\n",
            "   Proporção de pessoas com algum grau de vulnerabilidade (%)  IVM-NM  \\\n",
            "0                                               63.8              7.7   \n",
            "1                                               58.8              6.3   \n",
            "2                                               92.9             15.8   \n",
            "3                                               86.2             13.7   \n",
            "4                                               82.3             12.2   \n",
            "\n",
            "   Contribuição para o IVM-NM do Brasil  \\\n",
            "0                                   7.7   \n",
            "1                                   5.4   \n",
            "2                                   2.3   \n",
            "3                                   1.2   \n",
            "4                                   3.3   \n",
            "\n",
            "   Contribuição para o IVM-NM do Brasil (%)  \n",
            "0                                     100.0  \n",
            "1                                      69.8  \n",
            "2                                      30.2  \n",
            "3                                      15.2  \n",
            "4                                      43.1  \n"
          ]
        }
      ]
    },
    {
      "cell_type": "code",
      "source": [
        "from sklearn.linear_model import LinearRegression\n",
        "from sklearn.model_selection import train_test_split\n",
        "\n",
        "# Definir a variável independente (X) e a variável dependente (y)\n",
        "X = df[['Proporção de pessoas com algum grau de vulnerabilidade (%)']]\n",
        "y = df['IVM-NM']  # variável dependente\n",
        "\n",
        "# Dividir os dados em treino e teste\n",
        "X_train, X_test, y_train, y_test = train_test_split(X, y, test_size=0.2, random_state=42)\n",
        "\n",
        "# Criar e treinar o modelo de regressão linear\n",
        "model = LinearRegression()\n",
        "model.fit(X_train, y_train)\n",
        "\n",
        "# Coeficientes\n",
        "print(f\"Intercepto: {model.intercept_}\")\n",
        "print(f\"Coeficiente: {model.coef_[0]}\")\n"
      ],
      "metadata": {
        "colab": {
          "base_uri": "https://localhost:8080/"
        },
        "id": "PJdJLE7huSbQ",
        "outputId": "6140d6ea-f037-45b4-cfbf-e616c1e9de23"
      },
      "execution_count": null,
      "outputs": [
        {
          "output_type": "stream",
          "name": "stdout",
          "text": [
            "Intercepto: -9.264205816554805\n",
            "Coeficiente: 0.26363792806745817\n"
          ]
        }
      ]
    },
    {
      "cell_type": "markdown",
      "source": [
        "O coeficiente mostra a força e a direção da relação entre as variáveis, enquanto o intercepto é o ponto de partida da linha de regressão no eixo vertical."
      ],
      "metadata": {
        "id": "mVV303P8zldD"
      }
    },
    {
      "cell_type": "code",
      "source": [
        "import matplotlib.pyplot as plt\n",
        "from sklearn.metrics import r2_score\n",
        "\n",
        "# Fazer previsões com os dados de teste\n",
        "y_pred = model.predict(X_test)\n",
        "\n",
        "# Plotar a regressão\n",
        "plt.scatter(X_test, y_test, color='blue', label=\"Dados reais\")\n",
        "plt.plot(X_test, y_pred, color='red', linewidth=2, label=\"Linha de Regressão\")\n",
        "plt.title(\"Regressão Linear: IVM-NM vs Proporção de Vulnerabilidade\")\n",
        "plt.xlabel(\"Proporção de pessoas com algum grau de vulnerabilidade (%)\")\n",
        "plt.ylabel(\"IVM-NM\")\n",
        "plt.legend()\n",
        "plt.show()\n"
      ],
      "metadata": {
        "colab": {
          "base_uri": "https://localhost:8080/",
          "height": 472
        },
        "id": "iTSfV_SDuYev",
        "outputId": "05a798e6-f7da-4759-bdb4-6fbf0e1b7f22"
      },
      "execution_count": null,
      "outputs": [
        {
          "output_type": "display_data",
          "data": {
            "text/plain": [
              "<Figure size 640x480 with 1 Axes>"
            ],
            "image/png": "[encoded data removed]"
          },
          "metadata": {}
        }
      ]
    },
    {
      "cell_type": "markdown",
      "source": [
        "## **Análise de Correlação**\n",
        "\n",
        "A correlação mede o grau de associação entre duas variáveis, ou seja, mostra se uma variável aumenta ou diminui à medida que a outra muda. Isso visa analisar a vulnerabilidade e pobreza em diferentes regiões e subgrupos.\n",
        "\n",
        "\n",
        "### **Para que serve essa informação?**\n",
        "\n",
        "- Entender fatores de vulnerabilidade\n",
        "- Direcionar estratégia de mercado\n",
        "- Fazer análises de prioridades regionais\n",
        "\n",
        "## **Análise de Regressão**\n",
        "\n",
        "A regressão vai além da correlação, pois não apenas mede a relação entre duas variáveis, mas também nos ajuda a modelar essa relação, fornecendo uma equação que pode ser usada para fazer previsões. Ela estima o impacto de uma ou mais variáveis independentes (fatores) em uma variável dependente (outcome). A regressão é crucial para quantificar como determinados fatores afetam a vulnerabilidade e a pobreza.\n",
        "\n",
        "### **Para que serve essa informação?**\n",
        "\n",
        "- Quantificar do Impacto de Fatores Socioeconômicos\n",
        "- Identificar de Variáveis Críticas\n",
        "- Previsões e Simulações para Empresas"
      ],
      "metadata": {
        "id": "J7QO1K2jo0vn"
      }
    },
    {
      "cell_type": "markdown",
      "source": [
        "# **Integrantes do grupo:**\n",
        "\n",
        "*   Felipe Morais - RM551463\n",
        "*   João Gabriel - RM 552078\n",
        "*   Miguel Santos - 551640\n",
        "*   Ian – RM 550133"
      ],
      "metadata": {
        "id": "j33u8OWF9N7m"
      }
    }
  ]
}